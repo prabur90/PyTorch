{
  "nbformat": 4,
  "nbformat_minor": 0,
  "metadata": {
    "colab": {
      "provenance": [],
      "authorship_tag": "ABX9TyPo7p1yrLwp4RsBnuaiUd9R",
      "include_colab_link": true
    },
    "kernelspec": {
      "name": "python3",
      "display_name": "Python 3"
    },
    "language_info": {
      "name": "python"
    }
  },
  "cells": [
    {
      "cell_type": "markdown",
      "metadata": {
        "id": "view-in-github",
        "colab_type": "text"
      },
      "source": [
        "<a href=\"https://colab.research.google.com/github/prabur90/PyTorch/blob/main/Thread.ipynb\" target=\"_parent\"><img src=\"https://colab.research.google.com/assets/colab-badge.svg\" alt=\"Open In Colab\"/></a>"
      ]
    },
    {
      "cell_type": "code",
      "execution_count": 5,
      "metadata": {
        "id": "1Csukyaythcy"
      },
      "outputs": [],
      "source": [
        "import threading"
      ]
    },
    {
      "cell_type": "code",
      "source": [
        "def worker_1():\n",
        "    for i in range(5):\n",
        "        print(f'worker 1 loop {i} \\n')\n",
        "\n",
        "def worker_2():\n",
        "    for i in range(5):\n",
        "        print(f'worker 2 loop {i} \\n')\n",
        "\n",
        "Th1 = threading.Thread(target=worker_1)\n",
        "Th2 = threading.Thread(target=worker_2)\n",
        "Th1.start()\n",
        "Th2.start()\n",
        "\n",
        "print(\"Wait for the thread to finish \\n\")\n",
        "Th1.join()\n",
        "Th2.join()\n",
        "print('main thread finishing \\n')"
      ],
      "metadata": {
        "colab": {
          "base_uri": "https://localhost:8080/"
        },
        "id": "Y7vqTHPKvc14",
        "outputId": "cc3b246f-f5ea-4cdc-ad35-06b654bec362"
      },
      "execution_count": 12,
      "outputs": [
        {
          "output_type": "stream",
          "name": "stdout",
          "text": [
            "worker 1 loop 0 \n",
            "\n",
            "worker 1 loop 1 \n",
            "\n",
            "worker 1 loop 2 \n",
            "\n",
            "worker 1 loop 3 \n",
            "\n",
            "worker 1 loop 4 \n",
            "\n",
            "worker 2 loop 0 \n",
            "Wait for the thread to finish \n",
            "\n",
            "\n",
            "worker 2 loop 1 \n",
            "\n",
            "worker 2 loop 2 \n",
            "\n",
            "worker 2 loop 3 \n",
            "\n",
            "worker 2 loop 4 \n",
            "\n",
            "main thread finishing \n",
            "\n"
          ]
        }
      ]
    },
    {
      "cell_type": "code",
      "source": [
        "import threading\n",
        "def worker_1(lock):\n",
        "    for i in range(5):\n",
        "        with lock:\n",
        "            print(f'worker 1 loop {i} \\n')\n",
        "def worker_2(lock):\n",
        "    for i in range(5):\n",
        "        with lock:\n",
        "            print(f'worker 2 loop {i} \\n')\n",
        "lock = threading.Lock()\n",
        "Th1 = threading.Thread(target=worker_1, args=(lock,))\n",
        "Th2 = threading.Thread(target=worker_2, args=(lock,))\n",
        "Th1.start()\n",
        "Th2.start()\n",
        "print(\"Wait for the thread to finish \\n\")\n",
        "Th1.join()\n",
        "Th2.join()\n",
        "print('main thread finishing \\n')"
      ],
      "metadata": {
        "colab": {
          "base_uri": "https://localhost:8080/"
        },
        "id": "nuiCCin0xxRW",
        "outputId": "8b4a5d4d-0e65-4eac-ad6d-62f65f1675fc"
      },
      "execution_count": 13,
      "outputs": [
        {
          "output_type": "stream",
          "name": "stdout",
          "text": [
            "worker 1 loop 0 \n",
            "Wait for the thread to finish \n",
            "\n",
            "\n",
            "worker 1 loop 1 \n",
            "\n",
            "worker 1 loop 2 \n",
            "\n",
            "worker 1 loop 3 \n",
            "\n",
            "worker 1 loop 4 \n",
            "\n",
            "worker 2 loop 0 \n",
            "\n",
            "worker 2 loop 1 \n",
            "\n",
            "worker 2 loop 2 \n",
            "\n",
            "worker 2 loop 3 \n",
            "\n",
            "worker 2 loop 4 \n",
            "\n",
            "main thread finishing \n",
            "\n"
          ]
        }
      ]
    },
    {
      "cell_type": "code",
      "source": [
        "import concurrent.futures\n",
        "\n",
        "def worker_1():\n",
        "    for i in range(5):\n",
        "        print(f'worker 1 loop {i} \\n')\n",
        "\n",
        "def worker_2():\n",
        "    for i in range(5):\n",
        "        print(f'worker 2 loop {i} \\n')\n",
        "\n",
        "with concurrent.futures.ThreadPoolExecutor(max_workers=2) as executor:\n",
        "    future1 = executor.submit(worker_1)\n",
        "    future2 = executor.submit(worker_2)\n",
        "\n",
        "print(\"Wait for the thread to finish \\n\")\n",
        "future1.result()\n",
        "future2.result()\n",
        "print('main thread finishing \\n')"
      ],
      "metadata": {
        "colab": {
          "base_uri": "https://localhost:8080/"
        },
        "id": "rrfp9fZVyIJJ",
        "outputId": "9382f02c-66d2-4478-d486-7e256a209b42"
      },
      "execution_count": 14,
      "outputs": [
        {
          "output_type": "stream",
          "name": "stdout",
          "text": [
            "worker 1 loop 0 \n",
            "worker 2 loop 0 \n",
            "\n",
            "\n",
            "worker 1 loop 1 \n",
            "\n",
            "worker 1 loop 2 \n",
            "worker 2 loop 1 \n",
            "\n",
            "\n",
            "worker 1 loop 3 \n",
            "worker 2 loop 2 \n",
            "\n",
            "\n",
            "worker 1 loop 4 \n",
            "\n",
            "worker 2 loop 3 \n",
            "\n",
            "worker 2 loop 4 \n",
            "\n",
            "Wait for the thread to finish \n",
            "\n",
            "main thread finishing \n",
            "\n"
          ]
        }
      ]
    }
  ]
}