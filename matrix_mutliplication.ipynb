{
  "nbformat": 4,
  "nbformat_minor": 0,
  "metadata": {
    "colab": {
      "provenance": [],
      "authorship_tag": "ABX9TyN1TSjekoIKAPs3xhnpuPp8",
      "include_colab_link": true
    },
    "kernelspec": {
      "name": "python3",
      "display_name": "Python 3"
    },
    "language_info": {
      "name": "python"
    }
  },
  "cells": [
    {
      "cell_type": "markdown",
      "metadata": {
        "id": "view-in-github",
        "colab_type": "text"
      },
      "source": [
        "<a href=\"https://colab.research.google.com/github/prabur90/PyTorch/blob/main/matrix_mutliplication.ipynb\" target=\"_parent\"><img src=\"https://colab.research.google.com/assets/colab-badge.svg\" alt=\"Open In Colab\"/></a>"
      ]
    },
    {
      "cell_type": "code",
      "execution_count": 1,
      "metadata": {
        "id": "4sVydEOPlycZ"
      },
      "outputs": [],
      "source": [
        "import torch\n",
        "import torch.nn as nn\n",
        "\n",
        "import time\n",
        "from typing import Tuple"
      ]
    },
    {
      "cell_type": "code",
      "source": [
        "def run():\n",
        "    # Available CUDA Devices\n",
        "    cuda0 = \"\"\n",
        "    gpu_devices = get_cuda_devices()\n",
        "    if gpu_devices:\n",
        "        torch.cuda.set_device(0)\n",
        "        cuda0 = torch.cuda.current_device()\n",
        "        for i in range(0, gpu_devices):\n",
        "            print(f\"Device Name of {i}: {torch.cuda.get_device_name(i)}\")\n",
        "        device_name = cuda0\n",
        "    else:\n",
        "        print(\"No GPU available\")\n",
        "        device_name = \"CPU\"\n",
        "\n",
        "    # Data Type\n",
        "    dt = torch.float16\n",
        "\n",
        "    # get shapes\n",
        "    shapes = get_shapes()\n",
        "    for i in range(len(shapes)):\n",
        "        m,n,k = shapes[i]\n",
        "        print(f\"Matrix Dimensions are m:{m}, n:{n}, k:{k}\")\n",
        "        torch.manual_seed(0)\n",
        "        a = torch.randn(m, n, k).to(dt)\n",
        "        b = torch.randn(m, n, k).to(dt)\n",
        "        if gpu_devices:\n",
        "          a = torch.randn(m, n, k).to(dt).to(cuda0)\n",
        "          b = torch.randn(m, n, k).to(dt).to(cuda0)\n",
        "\n",
        "        start = time.perf_counter()\n",
        "        # Matrix Opertions\n",
        "        do_matmul(a,b)\n",
        "        end = time.perf_counter()\n",
        "        duration = end-start\n",
        "\n",
        "        tflops = performance_measure(duration, shapes[i])\n",
        "        print(f\"Data Type Used is: {dt}\")\n",
        "        print(f\"Device Name of {cuda0}: {device_name}\")\n",
        "        print(f\"Time taken for matmul: {end-start}\")\n",
        "        print(f\"TFLOPS: {tflops}\")\n",
        "        print(f\"Completed for the shape: {shapes[i]}\")\n",
        "        break  #To avoid memory usage issue, we are currenly calculating for one dim for now\n",
        "\n",
        "def get_cuda_devices():\n",
        "    # Get the available Devices\n",
        "    if torch.cuda.is_available():\n",
        "        print(f\"No of GPUs available: {torch.cuda.device_count()}\")\n",
        "        return torch.cuda.device_count()\n",
        "    else:\n",
        "        print(\"cuda not available\")\n",
        "\n",
        "def get_shapes() -> Tuple[int, int, int]:\n",
        "    available_shapes = [\n",
        "            (32, 32, 32),\n",
        "            (128, 1024, 1024),\n",
        "            (256, 1024, 1024),\n",
        "            (512, 1024, 1024),\n",
        "            (1024, 1024, 1024),\n",
        "            (128, 2048, 2048),\n",
        "            (256, 2048, 2048),\n",
        "            (512, 2048, 2048),\n",
        "            (1024, 2048, 2048),\n",
        "            (128, 4096, 4096),\n",
        "            (256, 4096, 4096),\n",
        "            (512, 4096, 4096),\n",
        "            (1024, 4096, 4096),\n",
        "            (64, 64, 64),\n",
        "            (128, 128, 128),\n",
        "            (256, 256, 256),\n",
        "            (512, 512, 512),\n",
        "        ]\n",
        "    return available_shapes\n",
        "\n",
        "def do_matmul(a,b):\n",
        "    # This method is used to do the Matrix Multiplication\n",
        "    torch.matmul(a, b)\n",
        "\n",
        "\n",
        "def performance_measure(duration, shape):\n",
        "    \"\"\"\n",
        "    To calculate the TFLOPS value for a 32x32x32 matrix multiplication, we need to first determine the number of floating-point operations (FLOPs) required for the operation.\n",
        "    A 32x32x32 matrix multiplication involves multiplying two matrices with dimensions 32x32 and 32x32, resulting in a 32x32 output matrix.\n",
        "    Each element of the output matrix is calculated by multiplying the corresponding elements of the input matrices and summing them up.\n",
        "    Therefore, the total number of FLOPs required for a 32x32x32 matrix multiplication can be calculated as follows:\n",
        "\n",
        "    FLOPs = (32 * 32 * 32) + (32 * 32 * 32) = 2,048,000\n",
        "\n",
        "    Now, to calculate the TFLOPS value, we need to divide the total number of FLOPs by the time taken to perform the operation.\n",
        "    Let's assume that the operation takes 1 second to complete.\n",
        "    TFLOPS = FLOPs / Time\n",
        "    = 2,048,000 / 1\n",
        "    = 2.048 TFLOPS\n",
        "\n",
        "    Therefore, the TFLOPS value for a 32x32x32 matrix multiplication is approximately 2.048 TFLOPS.\n",
        "    \"\"\"\n",
        "    m,n,k = shape\n",
        "    flops = (m * n * k) + (m * n * k)\n",
        "    tflops = flops/duration\n",
        "    return tflops\n",
        "\n",
        "if __name__== \"__main__\": # noqa\n",
        "    run()\n"
      ],
      "metadata": {
        "colab": {
          "base_uri": "https://localhost:8080/"
        },
        "id": "oohi2q44mlyl",
        "outputId": "ba10d46d-7e5f-4adf-9ed7-3fb54484e746"
      },
      "execution_count": 5,
      "outputs": [
        {
          "output_type": "stream",
          "name": "stdout",
          "text": [
            "cuda not available\n",
            "No GPU available\n",
            "Matrix Dimensions are m:32, n:32, k:32\n",
            "Data Type Used is: torch.float16\n",
            "Device Name of : CPU\n",
            "Time taken for matmul: 0.002699554000059834\n",
            "TFLOPS: 24276602.72717176\n",
            "Completed for the shape: (32, 32, 32)\n"
          ]
        }
      ]
    }
  ]
}